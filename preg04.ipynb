{
 "cells": [
  {
   "cell_type": "code",
   "execution_count": null,
   "metadata": {},
   "outputs": [],
   "source": [
    "n=5000\n",
    "\n",
    "if(n>0 and n<=1000 ):\n",
    "  print(0.05*n)\n",
    "elif (n>1000 and n<=1500):\n",
    "  print(0.07*n)\n",
    "elif (n>1500 and n<=2000):\n",
    "  print(0.08*n)\n",
    "elif (n>2000 and n<=5000):\n",
    "  print(0.1*n)\n",
    "elif (n>5000):\n",
    "  print(0.15*n)"
   ]
  }
 ],
 "metadata": {
  "language_info": {
   "name": "python"
  },
  "orig_nbformat": 4
 },
 "nbformat": 4,
 "nbformat_minor": 2
}
