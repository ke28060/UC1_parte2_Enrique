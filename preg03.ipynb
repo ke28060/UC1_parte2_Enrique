{
 "cells": [
  {
   "cell_type": "code",
   "execution_count": null,
   "metadata": {},
   "outputs": [],
   "source": [
    "n= int(input(\"Ingrese el numero \"))\n",
    "for i in range(0,n):\n",
    "  n=n+i\n",
    "print(n)"
   ]
  }
 ],
 "metadata": {
  "language_info": {
   "name": "python"
  },
  "orig_nbformat": 4
 },
 "nbformat": 4,
 "nbformat_minor": 2
}
